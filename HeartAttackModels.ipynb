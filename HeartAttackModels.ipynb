{
 "cells": [
  {
   "cell_type": "markdown",
   "id": "eligible-electron",
   "metadata": {},
   "source": [
    "# 1. Package Imports "
   ]
  },
  {
   "cell_type": "code",
   "execution_count": 33,
   "id": "composite-argument",
   "metadata": {},
   "outputs": [],
   "source": [
    "import numpy as np\n",
    "import pandas as pd\n",
    "import matplotlib.pyplot as plt\n",
    "from sklearn.preprocessing import StandardScaler\n",
    "from sklearn.model_selection import train_test_split\n",
    "from sklearn.neighbors import KNeighborsClassifier\n",
    "from sklearn.linear_model import LogisticRegression\n",
    "from sklearn import svm\n",
    "from sklearn.metrics import classification_report, confusion_matrix, ConfusionMatrixDisplay"
   ]
  },
  {
   "cell_type": "markdown",
   "id": "impressive-government",
   "metadata": {},
   "source": [
    "# 2. EDA "
   ]
  },
  {
   "cell_type": "code",
   "execution_count": 3,
   "id": "confirmed-saint",
   "metadata": {},
   "outputs": [],
   "source": [
    "data = pd.read_csv(\"Heart Attack/heart.csv\")"
   ]
  },
  {
   "cell_type": "code",
   "execution_count": 4,
   "id": "particular-click",
   "metadata": {},
   "outputs": [
    {
     "name": "stdout",
     "output_type": "stream",
     "text": [
      "   age  sex  cp  trtbps  chol  fbs  restecg  thalachh  exng  oldpeak  slp  \\\n",
      "0   63    1   3     145   233    1        0       150     0      2.3    0   \n",
      "1   37    1   2     130   250    0        1       187     0      3.5    0   \n",
      "2   41    0   1     130   204    0        0       172     0      1.4    2   \n",
      "3   56    1   1     120   236    0        1       178     0      0.8    2   \n",
      "4   57    0   0     120   354    0        1       163     1      0.6    2   \n",
      "\n",
      "   caa  thall  output  \n",
      "0    0      1       1  \n",
      "1    0      2       1  \n",
      "2    0      2       1  \n",
      "3    0      2       1  \n",
      "4    0      2       1  \n"
     ]
    }
   ],
   "source": [
    "print(data.head())"
   ]
  },
  {
   "cell_type": "code",
   "execution_count": 5,
   "id": "eastern-mirror",
   "metadata": {},
   "outputs": [
    {
     "name": "stdout",
     "output_type": "stream",
     "text": [
      "              age         sex          cp      trtbps        chol         fbs  \\\n",
      "count  303.000000  303.000000  303.000000  303.000000  303.000000  303.000000   \n",
      "mean    54.366337    0.683168    0.966997  131.623762  246.264026    0.148515   \n",
      "std      9.082101    0.466011    1.032052   17.538143   51.830751    0.356198   \n",
      "min     29.000000    0.000000    0.000000   94.000000  126.000000    0.000000   \n",
      "25%     47.500000    0.000000    0.000000  120.000000  211.000000    0.000000   \n",
      "50%     55.000000    1.000000    1.000000  130.000000  240.000000    0.000000   \n",
      "75%     61.000000    1.000000    2.000000  140.000000  274.500000    0.000000   \n",
      "max     77.000000    1.000000    3.000000  200.000000  564.000000    1.000000   \n",
      "\n",
      "          restecg    thalachh        exng     oldpeak         slp         caa  \\\n",
      "count  303.000000  303.000000  303.000000  303.000000  303.000000  303.000000   \n",
      "mean     0.528053  149.646865    0.326733    1.039604    1.399340    0.729373   \n",
      "std      0.525860   22.905161    0.469794    1.161075    0.616226    1.022606   \n",
      "min      0.000000   71.000000    0.000000    0.000000    0.000000    0.000000   \n",
      "25%      0.000000  133.500000    0.000000    0.000000    1.000000    0.000000   \n",
      "50%      1.000000  153.000000    0.000000    0.800000    1.000000    0.000000   \n",
      "75%      1.000000  166.000000    1.000000    1.600000    2.000000    1.000000   \n",
      "max      2.000000  202.000000    1.000000    6.200000    2.000000    4.000000   \n",
      "\n",
      "            thall      output  \n",
      "count  303.000000  303.000000  \n",
      "mean     2.313531    0.544554  \n",
      "std      0.612277    0.498835  \n",
      "min      0.000000    0.000000  \n",
      "25%      2.000000    0.000000  \n",
      "50%      2.000000    1.000000  \n",
      "75%      3.000000    1.000000  \n",
      "max      3.000000    1.000000  \n"
     ]
    }
   ],
   "source": [
    "print(data.describe())"
   ]
  },
  {
   "cell_type": "markdown",
   "id": "universal-membrane",
   "metadata": {},
   "source": [
    "The label for prediction in this dataset is 'output'. I use all the other columns as features in my models."
   ]
  },
  {
   "cell_type": "code",
   "execution_count": 6,
   "id": "offshore-damage",
   "metadata": {},
   "outputs": [
    {
     "name": "stdout",
     "output_type": "stream",
     "text": [
      "     age  sex  cp  trtbps  chol  fbs  restecg  thalachh  exng  oldpeak  slp  \\\n",
      "0     63    1   3     145   233    1        0       150     0      2.3    0   \n",
      "1     37    1   2     130   250    0        1       187     0      3.5    0   \n",
      "2     41    0   1     130   204    0        0       172     0      1.4    2   \n",
      "3     56    1   1     120   236    0        1       178     0      0.8    2   \n",
      "4     57    0   0     120   354    0        1       163     1      0.6    2   \n",
      "..   ...  ...  ..     ...   ...  ...      ...       ...   ...      ...  ...   \n",
      "298   57    0   0     140   241    0        1       123     1      0.2    1   \n",
      "299   45    1   3     110   264    0        1       132     0      1.2    1   \n",
      "300   68    1   0     144   193    1        1       141     0      3.4    1   \n",
      "301   57    1   0     130   131    0        1       115     1      1.2    1   \n",
      "302   57    0   1     130   236    0        0       174     0      0.0    1   \n",
      "\n",
      "     caa  thall  \n",
      "0      0      1  \n",
      "1      0      2  \n",
      "2      0      2  \n",
      "3      0      2  \n",
      "4      0      2  \n",
      "..   ...    ...  \n",
      "298    0      3  \n",
      "299    0      3  \n",
      "300    2      3  \n",
      "301    1      3  \n",
      "302    1      2  \n",
      "\n",
      "[303 rows x 13 columns]\n",
      "0      1\n",
      "1      1\n",
      "2      1\n",
      "3      1\n",
      "4      1\n",
      "      ..\n",
      "298    0\n",
      "299    0\n",
      "300    0\n",
      "301    0\n",
      "302    0\n",
      "Name: output, Length: 303, dtype: int64\n"
     ]
    }
   ],
   "source": [
    "features = data.iloc[:,0:-1]\n",
    "labels  = data.iloc[:,-1]\n",
    "print(features)\n",
    "print(labels)"
   ]
  },
  {
   "cell_type": "markdown",
   "id": "stopped-knight",
   "metadata": {},
   "source": [
    "# 3. Data scaling and splitting"
   ]
  },
  {
   "cell_type": "markdown",
   "id": "waiting-finding",
   "metadata": {},
   "source": [
    "It's necessary to scale the features so none of them exert an undue weight on the model."
   ]
  },
  {
   "cell_type": "code",
   "execution_count": 7,
   "id": "running-speed",
   "metadata": {},
   "outputs": [
    {
     "name": "stdout",
     "output_type": "stream",
     "text": [
      "          age       sex        cp    trtbps      chol       fbs   restecg  \\\n",
      "0    0.952197  0.681005  1.973123  0.763956 -0.256334  2.394438 -1.005832   \n",
      "1   -1.915313  0.681005  1.002577 -0.092738  0.072199 -0.417635  0.898962   \n",
      "2   -1.474158 -1.468418  0.032031 -0.092738 -0.816773 -0.417635 -1.005832   \n",
      "3    0.180175  0.681005  0.032031 -0.663867 -0.198357 -0.417635  0.898962   \n",
      "4    0.290464 -1.468418 -0.938515 -0.663867  2.082050 -0.417635  0.898962   \n",
      "..        ...       ...       ...       ...       ...       ...       ...   \n",
      "298  0.290464 -1.468418 -0.938515  0.478391 -0.101730 -0.417635  0.898962   \n",
      "299 -1.033002  0.681005  1.973123 -1.234996  0.342756 -0.417635  0.898962   \n",
      "300  1.503641  0.681005 -0.938515  0.706843 -1.029353  2.394438  0.898962   \n",
      "301  0.290464  0.681005 -0.938515 -0.092738 -2.227533 -0.417635  0.898962   \n",
      "302  0.290464 -1.468418  0.032031 -0.092738 -0.198357 -0.417635 -1.005832   \n",
      "\n",
      "     thalachh      exng   oldpeak       slp       caa     thall  \n",
      "0    0.015443 -0.696631  1.087338 -2.274579 -0.714429 -2.148873  \n",
      "1    1.633471 -0.696631  2.122573 -2.274579 -0.714429 -0.512922  \n",
      "2    0.977514 -0.696631  0.310912  0.976352 -0.714429 -0.512922  \n",
      "3    1.239897 -0.696631 -0.206705  0.976352 -0.714429 -0.512922  \n",
      "4    0.583939  1.435481 -0.379244  0.976352 -0.714429 -0.512922  \n",
      "..        ...       ...       ...       ...       ...       ...  \n",
      "298 -1.165281  1.435481 -0.724323 -0.649113 -0.714429  1.123029  \n",
      "299 -0.771706 -0.696631  0.138373 -0.649113 -0.714429  1.123029  \n",
      "300 -0.378132 -0.696631  2.036303 -0.649113  1.244593  1.123029  \n",
      "301 -1.515125  1.435481  0.138373 -0.649113  0.265082  1.123029  \n",
      "302  1.064975 -0.696631 -0.896862 -0.649113  0.265082 -0.512922  \n",
      "\n",
      "[303 rows x 13 columns]\n"
     ]
    }
   ],
   "source": [
    "std_scaler = StandardScaler()\n",
    "scaled_features = pd.DataFrame(std_scaler.fit_transform(features), columns = features.columns)\n",
    "print(scaled_features)"
   ]
  },
  {
   "cell_type": "markdown",
   "id": "entire-blood",
   "metadata": {},
   "source": [
    "The data is then split into a train and test set."
   ]
  },
  {
   "cell_type": "code",
   "execution_count": 8,
   "id": "raised-thesis",
   "metadata": {},
   "outputs": [],
   "source": [
    "features_train, features_val, labels_train, labels_val = train_test_split(scaled_features, labels, test_size = 0.2, shuffle = True, random_state = 0)"
   ]
  },
  {
   "cell_type": "markdown",
   "id": "ongoing-dictionary",
   "metadata": {},
   "source": [
    "# 4.1 KNN model "
   ]
  },
  {
   "cell_type": "markdown",
   "id": "consistent-roman",
   "metadata": {},
   "source": [
    "KNN models predict the label of a datapoint using the labels of nearby datapoints. I chose the number of neighbours to be 5."
   ]
  },
  {
   "cell_type": "code",
   "execution_count": 9,
   "id": "private-bullet",
   "metadata": {},
   "outputs": [],
   "source": [
    "classifier = KNeighborsClassifier(n_neighbors = 5)"
   ]
  },
  {
   "cell_type": "code",
   "execution_count": 14,
   "id": "descending-surgery",
   "metadata": {},
   "outputs": [
    {
     "name": "stdout",
     "output_type": "stream",
     "text": [
      "0.819672131147541\n"
     ]
    }
   ],
   "source": [
    "classifier.fit(features_train, labels_train)\n",
    "print(classifier.score(features_val,labels_val))"
   ]
  },
  {
   "cell_type": "code",
   "execution_count": 15,
   "id": "moved-intranet",
   "metadata": {},
   "outputs": [],
   "source": [
    "y_predict = classifier.predict(features_val)"
   ]
  },
  {
   "cell_type": "code",
   "execution_count": 16,
   "id": "decimal-stopping",
   "metadata": {},
   "outputs": [
    {
     "name": "stdout",
     "output_type": "stream",
     "text": [
      "[0 0 0 0 0 1 0 0 0 0 1 1 0 1 1 1 0 1 0 1 1 1 0 0 1 1 0 0 1 1 0 0 1 1 1 0 0\n",
      " 1 0 1 1 1 1 0 1 0 1 1 0 1 1 0 1 1 1 0 1 1 1 1 1]\n"
     ]
    }
   ],
   "source": [
    "print(y_predict)"
   ]
  },
  {
   "cell_type": "markdown",
   "id": "quiet-botswana",
   "metadata": {},
   "source": [
    "Precision and recall are very useful metrics for evaluating the effectiveness of a classification model. The confusion matrix shows visually the rate of misclassification. Ideally the confusion matrix is completely diagonal."
   ]
  },
  {
   "cell_type": "code",
   "execution_count": 17,
   "id": "severe-welding",
   "metadata": {},
   "outputs": [
    {
     "name": "stdout",
     "output_type": "stream",
     "text": [
      "              precision    recall  f1-score   support\n",
      "\n",
      "           0       0.81      0.78      0.79        27\n",
      "           1       0.83      0.85      0.84        34\n",
      "\n",
      "    accuracy                           0.82        61\n",
      "   macro avg       0.82      0.82      0.82        61\n",
      "weighted avg       0.82      0.82      0.82        61\n",
      "\n"
     ]
    }
   ],
   "source": [
    "print(classification_report(labels_val, y_predict))"
   ]
  },
  {
   "cell_type": "code",
   "execution_count": 18,
   "id": "previous-worker",
   "metadata": {},
   "outputs": [
    {
     "data": {
      "image/png": "[encoded data removed]",
      "text/plain": [
       "<Figure size 432x288 with 2 Axes>"
      ]
     },
     "metadata": {
      "needs_background": "light"
     },
     "output_type": "display_data"
    }
   ],
   "source": [
    "cm = confusion_matrix(labels_val, y_predict)\n",
    "cm_display = ConfusionMatrixDisplay(cm).plot()"
   ]
  },
  {
   "cell_type": "markdown",
   "id": "textile-factory",
   "metadata": {},
   "source": [
    "# 4.2 Neural Network model "
   ]
  },
  {
   "cell_type": "code",
   "execution_count": 19,
   "id": "floral-exclusive",
   "metadata": {},
   "outputs": [],
   "source": [
    "import tensorflow as tf\n",
    "from tensorflow.keras.models import Sequential\n",
    "from tensorflow.keras import layers"
   ]
  },
  {
   "cell_type": "markdown",
   "id": "floating-rogers",
   "metadata": {},
   "source": [
    "Hidden layers use ReLU activation as this provides universal approximation to a satisfactory extent over this dataset. The output layer has Softmax activation as this is a classification problem. Softmax outputs a vector of weighted probabilities corresponding to each class."
   ]
  },
  {
   "cell_type": "code",
   "execution_count": 20,
   "id": "worst-comment",
   "metadata": {},
   "outputs": [],
   "source": [
    "classifier_1 = Sequential()\n",
    "classifier_1.add(tf.keras.Input(shape=(13,)))\n",
    "classifier_1.add(tf.keras.layers.Dense(10,activation=\"relu\"))\n",
    "classifier_1.add(tf.keras.layers.Dense(2, activation = \"softmax\"))"
   ]
  },
  {
   "cell_type": "code",
   "execution_count": 21,
   "id": "cooked-holiday",
   "metadata": {},
   "outputs": [],
   "source": [
    "acc = tf.keras.metrics.CategoricalAccuracy()\n",
    "auc = tf.keras.metrics.AUC()\n",
    "\n",
    "classifier_1.compile(optimizer = 'Adam', loss = tf.keras.losses.CategoricalCrossentropy(), metrics=[acc,auc])"
   ]
  },
  {
   "cell_type": "code",
   "execution_count": 22,
   "id": "creative-stomach",
   "metadata": {},
   "outputs": [],
   "source": [
    "labels_train_1 = tf.keras.utils.to_categorical(labels_train, dtype = 'int64', num_classes = 2)\n",
    "labels_val_1 = tf.keras.utils.to_categorical(labels_val, dtype = 'int64', num_classes = 2)"
   ]
  },
  {
   "cell_type": "markdown",
   "id": "younger-influence",
   "metadata": {},
   "source": [
    "I fit the model over 100 epochs. We can see from the curves that the neural network overtrains around the 20th epoch as the training accuracy exceeds the validation accuracy."
   ]
  },
  {
   "cell_type": "code",
   "execution_count": 23,
   "id": "champion-sewing",
   "metadata": {},
   "outputs": [
    {
     "name": "stdout",
     "output_type": "stream",
     "text": [
      "Epoch 1/100\n",
      "20/20 [==============================] - 0s 18ms/step - loss: 0.9745 - categorical_accuracy: 0.4404 - auc: 0.4296 - val_loss: 0.7770 - val_categorical_accuracy: 0.5918 - val_auc: 0.5912\n",
      "Epoch 2/100\n",
      "20/20 [==============================] - 0s 2ms/step - loss: 0.8693 - categorical_accuracy: 0.4974 - auc: 0.4909 - val_loss: 0.7060 - val_categorical_accuracy: 0.6327 - val_auc: 0.6443\n",
      "Epoch 3/100\n",
      "20/20 [==============================] - 0s 2ms/step - loss: 0.7803 - categorical_accuracy: 0.5596 - auc: 0.5658 - val_loss: 0.6555 - val_categorical_accuracy: 0.6327 - val_auc: 0.6901\n",
      "Epoch 4/100\n",
      "20/20 [==============================] - 0s 2ms/step - loss: 0.7130 - categorical_accuracy: 0.6114 - auc: 0.6272 - val_loss: 0.6130 - val_categorical_accuracy: 0.6735 - val_auc: 0.7253\n",
      "Epoch 5/100\n",
      "20/20 [==============================] - 0s 2ms/step - loss: 0.6510 - categorical_accuracy: 0.6477 - auc: 0.6975 - val_loss: 0.5757 - val_categorical_accuracy: 0.7143 - val_auc: 0.7611\n",
      "Epoch 6/100\n",
      "20/20 [==============================] - 0s 2ms/step - loss: 0.5992 - categorical_accuracy: 0.6995 - auc: 0.7517 - val_loss: 0.5502 - val_categorical_accuracy: 0.7143 - val_auc: 0.7859\n",
      "Epoch 7/100\n",
      "20/20 [==============================] - 0s 2ms/step - loss: 0.5617 - categorical_accuracy: 0.7202 - auc: 0.7902 - val_loss: 0.5274 - val_categorical_accuracy: 0.7347 - val_auc: 0.8117\n",
      "Epoch 8/100\n",
      "20/20 [==============================] - 0s 2ms/step - loss: 0.5302 - categorical_accuracy: 0.7617 - auc: 0.8167 - val_loss: 0.5108 - val_categorical_accuracy: 0.7755 - val_auc: 0.8276\n",
      "Epoch 9/100\n",
      "20/20 [==============================] - 0s 2ms/step - loss: 0.5030 - categorical_accuracy: 0.7824 - auc: 0.8425 - val_loss: 0.4961 - val_categorical_accuracy: 0.7755 - val_auc: 0.8380\n",
      "Epoch 10/100\n",
      "20/20 [==============================] - 0s 2ms/step - loss: 0.4825 - categorical_accuracy: 0.7979 - auc: 0.8581 - val_loss: 0.4833 - val_categorical_accuracy: 0.7959 - val_auc: 0.8488\n",
      "Epoch 11/100\n",
      "20/20 [==============================] - 0s 2ms/step - loss: 0.4624 - categorical_accuracy: 0.7979 - auc: 0.8715 - val_loss: 0.4723 - val_categorical_accuracy: 0.7755 - val_auc: 0.8542\n",
      "Epoch 12/100\n",
      "20/20 [==============================] - 0s 2ms/step - loss: 0.4477 - categorical_accuracy: 0.8187 - auc: 0.8795 - val_loss: 0.4621 - val_categorical_accuracy: 0.7551 - val_auc: 0.8592\n",
      "Epoch 13/100\n",
      "20/20 [==============================] - 0s 2ms/step - loss: 0.4342 - categorical_accuracy: 0.8238 - auc: 0.8877 - val_loss: 0.4529 - val_categorical_accuracy: 0.7755 - val_auc: 0.8667\n",
      "Epoch 14/100\n",
      "20/20 [==============================] - 0s 2ms/step - loss: 0.4213 - categorical_accuracy: 0.8342 - auc: 0.8951 - val_loss: 0.4458 - val_categorical_accuracy: 0.7755 - val_auc: 0.8701\n",
      "Epoch 15/100\n",
      "20/20 [==============================] - 0s 2ms/step - loss: 0.4109 - categorical_accuracy: 0.8394 - auc: 0.9004 - val_loss: 0.4391 - val_categorical_accuracy: 0.7755 - val_auc: 0.8734\n",
      "Epoch 16/100\n",
      "20/20 [==============================] - 0s 2ms/step - loss: 0.4014 - categorical_accuracy: 0.8446 - auc: 0.9049 - val_loss: 0.4346 - val_categorical_accuracy: 0.7551 - val_auc: 0.8746\n",
      "Epoch 17/100\n",
      "20/20 [==============================] - 0s 2ms/step - loss: 0.3933 - categorical_accuracy: 0.8394 - auc: 0.9078 - val_loss: 0.4289 - val_categorical_accuracy: 0.7551 - val_auc: 0.8796\n",
      "Epoch 18/100\n",
      "20/20 [==============================] - 0s 3ms/step - loss: 0.3865 - categorical_accuracy: 0.8394 - auc: 0.9101 - val_loss: 0.4263 - val_categorical_accuracy: 0.7959 - val_auc: 0.8811\n",
      "Epoch 19/100\n",
      "20/20 [==============================] - 0s 2ms/step - loss: 0.3798 - categorical_accuracy: 0.8394 - auc: 0.9139 - val_loss: 0.4209 - val_categorical_accuracy: 0.8163 - val_auc: 0.8825\n",
      "Epoch 20/100\n",
      "20/20 [==============================] - 0s 2ms/step - loss: 0.3740 - categorical_accuracy: 0.8446 - auc: 0.9169 - val_loss: 0.4173 - val_categorical_accuracy: 0.8163 - val_auc: 0.8855\n",
      "Epoch 21/100\n",
      "20/20 [==============================] - 0s 2ms/step - loss: 0.3685 - categorical_accuracy: 0.8497 - auc: 0.9190 - val_loss: 0.4133 - val_categorical_accuracy: 0.8163 - val_auc: 0.8892\n",
      "Epoch 22/100\n",
      "20/20 [==============================] - 0s 2ms/step - loss: 0.3638 - categorical_accuracy: 0.8497 - auc: 0.9212 - val_loss: 0.4104 - val_categorical_accuracy: 0.8163 - val_auc: 0.8917\n",
      "Epoch 23/100\n",
      "20/20 [==============================] - 0s 2ms/step - loss: 0.3597 - categorical_accuracy: 0.8549 - auc: 0.9233 - val_loss: 0.4088 - val_categorical_accuracy: 0.8367 - val_auc: 0.8905\n",
      "Epoch 24/100\n",
      "20/20 [==============================] - 0s 2ms/step - loss: 0.3555 - categorical_accuracy: 0.8549 - auc: 0.9245 - val_loss: 0.4049 - val_categorical_accuracy: 0.8367 - val_auc: 0.8905\n",
      "Epoch 25/100\n",
      "20/20 [==============================] - 0s 2ms/step - loss: 0.3508 - categorical_accuracy: 0.8653 - auc: 0.9270 - val_loss: 0.4022 - val_categorical_accuracy: 0.8367 - val_auc: 0.8892\n",
      "Epoch 26/100\n",
      "20/20 [==============================] - 0s 2ms/step - loss: 0.3480 - categorical_accuracy: 0.8653 - auc: 0.9280 - val_loss: 0.4005 - val_categorical_accuracy: 0.8367 - val_auc: 0.8921\n",
      "Epoch 27/100\n",
      "20/20 [==============================] - 0s 2ms/step - loss: 0.3450 - categorical_accuracy: 0.8653 - auc: 0.9295 - val_loss: 0.3992 - val_categorical_accuracy: 0.8367 - val_auc: 0.8913\n",
      "Epoch 28/100\n",
      "20/20 [==============================] - 0s 2ms/step - loss: 0.3417 - categorical_accuracy: 0.8653 - auc: 0.9307 - val_loss: 0.3954 - val_categorical_accuracy: 0.8367 - val_auc: 0.8925\n",
      "Epoch 29/100\n",
      "20/20 [==============================] - 0s 2ms/step - loss: 0.3390 - categorical_accuracy: 0.8653 - auc: 0.9317 - val_loss: 0.3933 - val_categorical_accuracy: 0.8367 - val_auc: 0.8934\n",
      "Epoch 30/100\n",
      "20/20 [==============================] - 0s 2ms/step - loss: 0.3374 - categorical_accuracy: 0.8653 - auc: 0.9321 - val_loss: 0.3941 - val_categorical_accuracy: 0.8367 - val_auc: 0.8934\n",
      "Epoch 31/100\n",
      "20/20 [==============================] - 0s 2ms/step - loss: 0.3347 - categorical_accuracy: 0.8549 - auc: 0.9332 - val_loss: 0.3918 - val_categorical_accuracy: 0.8367 - val_auc: 0.8955\n",
      "Epoch 32/100\n",
      "20/20 [==============================] - 0s 2ms/step - loss: 0.3315 - categorical_accuracy: 0.8653 - auc: 0.9343 - val_loss: 0.3894 - val_categorical_accuracy: 0.8367 - val_auc: 0.8980\n",
      "Epoch 33/100\n",
      "20/20 [==============================] - 0s 2ms/step - loss: 0.3296 - categorical_accuracy: 0.8653 - auc: 0.9353 - val_loss: 0.3890 - val_categorical_accuracy: 0.8367 - val_auc: 0.8975\n",
      "Epoch 34/100\n",
      "20/20 [==============================] - 0s 2ms/step - loss: 0.3280 - categorical_accuracy: 0.8653 - auc: 0.9364 - val_loss: 0.3891 - val_categorical_accuracy: 0.8367 - val_auc: 0.8992\n",
      "Epoch 35/100\n",
      "20/20 [==============================] - 0s 2ms/step - loss: 0.3259 - categorical_accuracy: 0.8653 - auc: 0.9373 - val_loss: 0.3867 - val_categorical_accuracy: 0.8367 - val_auc: 0.8992\n",
      "Epoch 36/100\n",
      "20/20 [==============================] - 0s 2ms/step - loss: 0.3243 - categorical_accuracy: 0.8653 - auc: 0.9375 - val_loss: 0.3838 - val_categorical_accuracy: 0.8367 - val_auc: 0.9009\n",
      "Epoch 37/100\n",
      "20/20 [==============================] - 0s 2ms/step - loss: 0.3227 - categorical_accuracy: 0.8653 - auc: 0.9385 - val_loss: 0.3842 - val_categorical_accuracy: 0.8367 - val_auc: 0.9009\n",
      "Epoch 38/100\n",
      "20/20 [==============================] - 0s 2ms/step - loss: 0.3214 - categorical_accuracy: 0.8653 - auc: 0.9384 - val_loss: 0.3848 - val_categorical_accuracy: 0.8367 - val_auc: 0.8992\n",
      "Epoch 39/100\n",
      "20/20 [==============================] - 0s 2ms/step - loss: 0.3195 - categorical_accuracy: 0.8653 - auc: 0.9394 - val_loss: 0.3828 - val_categorical_accuracy: 0.8367 - val_auc: 0.9017\n",
      "Epoch 40/100\n",
      "20/20 [==============================] - 0s 2ms/step - loss: 0.3179 - categorical_accuracy: 0.8653 - auc: 0.9398 - val_loss: 0.3836 - val_categorical_accuracy: 0.8367 - val_auc: 0.9025\n",
      "Epoch 41/100\n",
      "20/20 [==============================] - 0s 2ms/step - loss: 0.3167 - categorical_accuracy: 0.8653 - auc: 0.9406 - val_loss: 0.3825 - val_categorical_accuracy: 0.8367 - val_auc: 0.9063\n",
      "Epoch 42/100\n"
     ]
    },
    {
     "name": "stdout",
     "output_type": "stream",
     "text": [
      "20/20 [==============================] - 0s 2ms/step - loss: 0.3153 - categorical_accuracy: 0.8653 - auc: 0.9411 - val_loss: 0.3804 - val_categorical_accuracy: 0.8367 - val_auc: 0.9046\n",
      "Epoch 43/100\n",
      "20/20 [==============================] - 0s 2ms/step - loss: 0.3141 - categorical_accuracy: 0.8653 - auc: 0.9414 - val_loss: 0.3787 - val_categorical_accuracy: 0.8367 - val_auc: 0.9067\n",
      "Epoch 44/100\n",
      "20/20 [==============================] - 0s 2ms/step - loss: 0.3120 - categorical_accuracy: 0.8756 - auc: 0.9424 - val_loss: 0.3780 - val_categorical_accuracy: 0.8367 - val_auc: 0.9080\n",
      "Epoch 45/100\n",
      "20/20 [==============================] - 0s 2ms/step - loss: 0.3107 - categorical_accuracy: 0.8705 - auc: 0.9427 - val_loss: 0.3786 - val_categorical_accuracy: 0.8367 - val_auc: 0.9071\n",
      "Epoch 46/100\n",
      "20/20 [==============================] - 0s 2ms/step - loss: 0.3093 - categorical_accuracy: 0.8705 - auc: 0.9430 - val_loss: 0.3778 - val_categorical_accuracy: 0.8367 - val_auc: 0.9100\n",
      "Epoch 47/100\n",
      "20/20 [==============================] - 0s 2ms/step - loss: 0.3083 - categorical_accuracy: 0.8756 - auc: 0.9433 - val_loss: 0.3770 - val_categorical_accuracy: 0.8367 - val_auc: 0.9109\n",
      "Epoch 48/100\n",
      "20/20 [==============================] - 0s 2ms/step - loss: 0.3072 - categorical_accuracy: 0.8756 - auc: 0.9440 - val_loss: 0.3785 - val_categorical_accuracy: 0.8367 - val_auc: 0.9096\n",
      "Epoch 49/100\n",
      "20/20 [==============================] - 0s 2ms/step - loss: 0.3055 - categorical_accuracy: 0.8756 - auc: 0.9444 - val_loss: 0.3766 - val_categorical_accuracy: 0.8367 - val_auc: 0.9113\n",
      "Epoch 50/100\n",
      "20/20 [==============================] - 0s 2ms/step - loss: 0.3043 - categorical_accuracy: 0.8756 - auc: 0.9454 - val_loss: 0.3756 - val_categorical_accuracy: 0.8367 - val_auc: 0.9125\n",
      "Epoch 51/100\n",
      "20/20 [==============================] - ETA: 0s - loss: 0.2018 - categorical_accuracy: 0.9000 - auc: 0.99 - 0s 2ms/step - loss: 0.3032 - categorical_accuracy: 0.8705 - auc: 0.9459 - val_loss: 0.3747 - val_categorical_accuracy: 0.8367 - val_auc: 0.9134\n",
      "Epoch 52/100\n",
      "20/20 [==============================] - 0s 2ms/step - loss: 0.3021 - categorical_accuracy: 0.8705 - auc: 0.9453 - val_loss: 0.3720 - val_categorical_accuracy: 0.8367 - val_auc: 0.9163\n",
      "Epoch 53/100\n",
      "20/20 [==============================] - 0s 2ms/step - loss: 0.3011 - categorical_accuracy: 0.8705 - auc: 0.9464 - val_loss: 0.3754 - val_categorical_accuracy: 0.8367 - val_auc: 0.9138\n",
      "Epoch 54/100\n",
      "20/20 [==============================] - 0s 2ms/step - loss: 0.2995 - categorical_accuracy: 0.8705 - auc: 0.9472 - val_loss: 0.3778 - val_categorical_accuracy: 0.8367 - val_auc: 0.9146\n",
      "Epoch 55/100\n",
      "20/20 [==============================] - 0s 2ms/step - loss: 0.2986 - categorical_accuracy: 0.8705 - auc: 0.9472 - val_loss: 0.3754 - val_categorical_accuracy: 0.8367 - val_auc: 0.9146\n",
      "Epoch 56/100\n",
      "20/20 [==============================] - 0s 2ms/step - loss: 0.2978 - categorical_accuracy: 0.8705 - auc: 0.9480 - val_loss: 0.3735 - val_categorical_accuracy: 0.8367 - val_auc: 0.9142\n",
      "Epoch 57/100\n",
      "20/20 [==============================] - 0s 2ms/step - loss: 0.2957 - categorical_accuracy: 0.8705 - auc: 0.9496 - val_loss: 0.3761 - val_categorical_accuracy: 0.8367 - val_auc: 0.9142\n",
      "Epoch 58/100\n",
      "20/20 [==============================] - 0s 2ms/step - loss: 0.2952 - categorical_accuracy: 0.8705 - auc: 0.9496 - val_loss: 0.3740 - val_categorical_accuracy: 0.8367 - val_auc: 0.9163\n",
      "Epoch 59/100\n",
      "20/20 [==============================] - 0s 2ms/step - loss: 0.2940 - categorical_accuracy: 0.8705 - auc: 0.9499 - val_loss: 0.3746 - val_categorical_accuracy: 0.8367 - val_auc: 0.9159\n",
      "Epoch 60/100\n",
      "20/20 [==============================] - 0s 2ms/step - loss: 0.2927 - categorical_accuracy: 0.8756 - auc: 0.9502 - val_loss: 0.3741 - val_categorical_accuracy: 0.8367 - val_auc: 0.9163\n",
      "Epoch 61/100\n",
      "20/20 [==============================] - 0s 2ms/step - loss: 0.2920 - categorical_accuracy: 0.8705 - auc: 0.9505 - val_loss: 0.3753 - val_categorical_accuracy: 0.8367 - val_auc: 0.9167\n",
      "Epoch 62/100\n",
      "20/20 [==============================] - 0s 2ms/step - loss: 0.2904 - categorical_accuracy: 0.8705 - auc: 0.9512 - val_loss: 0.3738 - val_categorical_accuracy: 0.8367 - val_auc: 0.9171\n",
      "Epoch 63/100\n",
      "20/20 [==============================] - 0s 2ms/step - loss: 0.2898 - categorical_accuracy: 0.8705 - auc: 0.9511 - val_loss: 0.3741 - val_categorical_accuracy: 0.8367 - val_auc: 0.9175\n",
      "Epoch 64/100\n",
      "20/20 [==============================] - 0s 2ms/step - loss: 0.2884 - categorical_accuracy: 0.8705 - auc: 0.9519 - val_loss: 0.3755 - val_categorical_accuracy: 0.8367 - val_auc: 0.9171\n",
      "Epoch 65/100\n",
      "20/20 [==============================] - 0s 2ms/step - loss: 0.2881 - categorical_accuracy: 0.8808 - auc: 0.9520 - val_loss: 0.3734 - val_categorical_accuracy: 0.8163 - val_auc: 0.9173\n",
      "Epoch 66/100\n",
      "20/20 [==============================] - ETA: 0s - loss: 0.3601 - categorical_accuracy: 0.8000 - auc: 0.92 - 0s 2ms/step - loss: 0.2862 - categorical_accuracy: 0.8756 - auc: 0.9524 - val_loss: 0.3747 - val_categorical_accuracy: 0.8367 - val_auc: 0.9180\n",
      "Epoch 67/100\n",
      "20/20 [==============================] - 0s 2ms/step - loss: 0.2857 - categorical_accuracy: 0.8808 - auc: 0.9528 - val_loss: 0.3769 - val_categorical_accuracy: 0.8367 - val_auc: 0.9163\n",
      "Epoch 68/100\n",
      "20/20 [==============================] - 0s 2ms/step - loss: 0.2858 - categorical_accuracy: 0.8860 - auc: 0.9532 - val_loss: 0.3743 - val_categorical_accuracy: 0.8163 - val_auc: 0.9180\n",
      "Epoch 69/100\n",
      "20/20 [==============================] - 0s 2ms/step - loss: 0.2839 - categorical_accuracy: 0.8860 - auc: 0.9537 - val_loss: 0.3768 - val_categorical_accuracy: 0.8163 - val_auc: 0.9155\n",
      "Epoch 70/100\n",
      "20/20 [==============================] - 0s 2ms/step - loss: 0.2832 - categorical_accuracy: 0.8860 - auc: 0.9541 - val_loss: 0.3755 - val_categorical_accuracy: 0.8163 - val_auc: 0.9163\n",
      "Epoch 71/100\n",
      "20/20 [==============================] - 0s 2ms/step - loss: 0.2821 - categorical_accuracy: 0.8860 - auc: 0.9539 - val_loss: 0.3772 - val_categorical_accuracy: 0.8163 - val_auc: 0.9146\n",
      "Epoch 72/100\n",
      "20/20 [==============================] - 0s 2ms/step - loss: 0.2818 - categorical_accuracy: 0.8860 - auc: 0.9542 - val_loss: 0.3769 - val_categorical_accuracy: 0.8163 - val_auc: 0.9142\n",
      "Epoch 73/100\n",
      "20/20 [==============================] - 0s 2ms/step - loss: 0.2820 - categorical_accuracy: 0.8860 - auc: 0.9545 - val_loss: 0.3763 - val_categorical_accuracy: 0.8163 - val_auc: 0.9138\n",
      "Epoch 74/100\n",
      "20/20 [==============================] - 0s 2ms/step - loss: 0.2814 - categorical_accuracy: 0.8964 - auc: 0.9550 - val_loss: 0.3750 - val_categorical_accuracy: 0.8163 - val_auc: 0.9138\n",
      "Epoch 75/100\n",
      "20/20 [==============================] - 0s 2ms/step - loss: 0.2799 - categorical_accuracy: 0.8912 - auc: 0.9548 - val_loss: 0.3739 - val_categorical_accuracy: 0.8163 - val_auc: 0.9138\n",
      "Epoch 76/100\n",
      "20/20 [==============================] - 0s 2ms/step - loss: 0.2786 - categorical_accuracy: 0.8964 - auc: 0.9559 - val_loss: 0.3758 - val_categorical_accuracy: 0.8163 - val_auc: 0.9125\n",
      "Epoch 77/100\n",
      "20/20 [==============================] - 0s 2ms/step - loss: 0.2777 - categorical_accuracy: 0.8964 - auc: 0.9563 - val_loss: 0.3749 - val_categorical_accuracy: 0.8163 - val_auc: 0.9117\n",
      "Epoch 78/100\n",
      "20/20 [==============================] - 0s 2ms/step - loss: 0.2772 - categorical_accuracy: 0.8912 - auc: 0.9565 - val_loss: 0.3758 - val_categorical_accuracy: 0.8163 - val_auc: 0.9142\n",
      "Epoch 79/100\n",
      "20/20 [==============================] - 0s 2ms/step - loss: 0.2756 - categorical_accuracy: 0.8860 - auc: 0.9566 - val_loss: 0.3742 - val_categorical_accuracy: 0.8163 - val_auc: 0.9150\n",
      "Epoch 80/100\n",
      "20/20 [==============================] - 0s 2ms/step - loss: 0.2754 - categorical_accuracy: 0.8860 - auc: 0.9568 - val_loss: 0.3751 - val_categorical_accuracy: 0.8163 - val_auc: 0.9155\n",
      "Epoch 81/100\n",
      "20/20 [==============================] - 0s 2ms/step - loss: 0.2743 - categorical_accuracy: 0.8808 - auc: 0.9572 - val_loss: 0.3738 - val_categorical_accuracy: 0.8163 - val_auc: 0.9150\n",
      "Epoch 82/100\n",
      "20/20 [==============================] - 0s 2ms/step - loss: 0.2740 - categorical_accuracy: 0.8860 - auc: 0.9575 - val_loss: 0.3731 - val_categorical_accuracy: 0.8163 - val_auc: 0.9146\n"
     ]
    },
    {
     "name": "stdout",
     "output_type": "stream",
     "text": [
      "Epoch 83/100\n",
      "20/20 [==============================] - 0s 2ms/step - loss: 0.2731 - categorical_accuracy: 0.8912 - auc: 0.9573 - val_loss: 0.3707 - val_categorical_accuracy: 0.8163 - val_auc: 0.9159\n",
      "Epoch 84/100\n",
      "20/20 [==============================] - 0s 2ms/step - loss: 0.2728 - categorical_accuracy: 0.8912 - auc: 0.9576 - val_loss: 0.3696 - val_categorical_accuracy: 0.8163 - val_auc: 0.9146\n",
      "Epoch 85/100\n",
      "20/20 [==============================] - 0s 2ms/step - loss: 0.2718 - categorical_accuracy: 0.8912 - auc: 0.9581 - val_loss: 0.3690 - val_categorical_accuracy: 0.8163 - val_auc: 0.9159\n",
      "Epoch 86/100\n",
      "20/20 [==============================] - 0s 2ms/step - loss: 0.2710 - categorical_accuracy: 0.8912 - auc: 0.9585 - val_loss: 0.3723 - val_categorical_accuracy: 0.8163 - val_auc: 0.9159\n",
      "Epoch 87/100\n",
      "20/20 [==============================] - 0s 2ms/step - loss: 0.2701 - categorical_accuracy: 0.8964 - auc: 0.9589 - val_loss: 0.3711 - val_categorical_accuracy: 0.8367 - val_auc: 0.9171\n",
      "Epoch 88/100\n",
      "20/20 [==============================] - 0s 2ms/step - loss: 0.2698 - categorical_accuracy: 0.8964 - auc: 0.9585 - val_loss: 0.3720 - val_categorical_accuracy: 0.8367 - val_auc: 0.9180\n",
      "Epoch 89/100\n",
      "20/20 [==============================] - 0s 2ms/step - loss: 0.2691 - categorical_accuracy: 0.8964 - auc: 0.9592 - val_loss: 0.3726 - val_categorical_accuracy: 0.8367 - val_auc: 0.9146\n",
      "Epoch 90/100\n",
      "20/20 [==============================] - 0s 2ms/step - loss: 0.2691 - categorical_accuracy: 0.8860 - auc: 0.9588 - val_loss: 0.3700 - val_categorical_accuracy: 0.8367 - val_auc: 0.9161\n",
      "Epoch 91/100\n",
      "20/20 [==============================] - 0s 2ms/step - loss: 0.2678 - categorical_accuracy: 0.9016 - auc: 0.9593 - val_loss: 0.3712 - val_categorical_accuracy: 0.8367 - val_auc: 0.9167\n",
      "Epoch 92/100\n",
      "20/20 [==============================] - 0s 2ms/step - loss: 0.2667 - categorical_accuracy: 0.9016 - auc: 0.9599 - val_loss: 0.3728 - val_categorical_accuracy: 0.8367 - val_auc: 0.9155\n",
      "Epoch 93/100\n",
      "20/20 [==============================] - 0s 2ms/step - loss: 0.2658 - categorical_accuracy: 0.9016 - auc: 0.9596 - val_loss: 0.3705 - val_categorical_accuracy: 0.8367 - val_auc: 0.9163\n",
      "Epoch 94/100\n",
      "20/20 [==============================] - 0s 2ms/step - loss: 0.2664 - categorical_accuracy: 0.9016 - auc: 0.9594 - val_loss: 0.3701 - val_categorical_accuracy: 0.8367 - val_auc: 0.9184\n",
      "Epoch 95/100\n",
      "20/20 [==============================] - 0s 2ms/step - loss: 0.2642 - categorical_accuracy: 0.9016 - auc: 0.9605 - val_loss: 0.3737 - val_categorical_accuracy: 0.8367 - val_auc: 0.9155\n",
      "Epoch 96/100\n",
      "20/20 [==============================] - 0s 2ms/step - loss: 0.2640 - categorical_accuracy: 0.8964 - auc: 0.9607 - val_loss: 0.3723 - val_categorical_accuracy: 0.8367 - val_auc: 0.9152\n",
      "Epoch 97/100\n",
      "20/20 [==============================] - 0s 2ms/step - loss: 0.2634 - categorical_accuracy: 0.8964 - auc: 0.9606 - val_loss: 0.3737 - val_categorical_accuracy: 0.8367 - val_auc: 0.9150\n",
      "Epoch 98/100\n",
      "20/20 [==============================] - 0s 2ms/step - loss: 0.2619 - categorical_accuracy: 0.9016 - auc: 0.9613 - val_loss: 0.3729 - val_categorical_accuracy: 0.8571 - val_auc: 0.9152\n",
      "Epoch 99/100\n",
      "20/20 [==============================] - 0s 2ms/step - loss: 0.2622 - categorical_accuracy: 0.8964 - auc: 0.9614 - val_loss: 0.3770 - val_categorical_accuracy: 0.8367 - val_auc: 0.9142\n",
      "Epoch 100/100\n",
      "20/20 [==============================] - 0s 2ms/step - loss: 0.2609 - categorical_accuracy: 0.9119 - auc: 0.9615 - val_loss: 0.3738 - val_categorical_accuracy: 0.8571 - val_auc: 0.9155\n"
     ]
    },
    {
     "data": {
      "image/png": "[encoded data removed]",
      "text/plain": [
       "<Figure size 432x288 with 1 Axes>"
      ]
     },
     "metadata": {
      "needs_background": "light"
     },
     "output_type": "display_data"
    },
    {
     "data": {
      "image/png": "[encoded data removed]",
      "text/plain": [
       "<Figure size 432x288 with 1 Axes>"
      ]
     },
     "metadata": {
      "needs_background": "light"
     },
     "output_type": "display_data"
    }
   ],
   "source": [
    "history = classifier_1.fit(features_train, labels_train_1, validation_split = 0.2, batch_size = 10, epochs = 100)\n",
    "\n",
    "plt.plot(history.history['loss'], label = 'loss')\n",
    "plt.plot(history.history['val_loss'], label = 'val_loss')\n",
    "plt.xlabel(\"Epoch\")\n",
    "plt.legend()\n",
    "plt.show()\n",
    "plt.plot(history.history['categorical_accuracy'], label = 'accuracy')\n",
    "plt.plot(history.history['val_categorical_accuracy'], label = 'val_categorical_accuracy')\n",
    "plt.xlabel(\"Epoch\")\n",
    "plt.legend()\n",
    "plt.show()"
   ]
  },
  {
   "cell_type": "code",
   "execution_count": 24,
   "id": "responsible-scientist",
   "metadata": {},
   "outputs": [
    {
     "name": "stdout",
     "output_type": "stream",
     "text": [
      "[0 1 0 0 0 0 0 0 0 0 1 1 0 1 1 1 0 0 0 1 1 0 0 0 1 1 0 0 1 1 1 0 1 1 1 0 0\n",
      " 1 0 0 1 1 1 0 1 1 1 0 0 1 1 0 1 1 1 0 1 1 1 1 1]\n",
      "[0 1 0 0 1 0 0 0 0 0 1 1 0 1 1 1 1 1 0 1 1 0 0 0 1 0 0 0 1 1 0 0 1 1 1 0 0\n",
      " 1 0 0 1 1 1 0 1 1 1 0 0 1 1 1 1 1 1 0 1 0 1 1 1]\n",
      "              precision    recall  f1-score   support\n",
      "\n",
      "           0       0.86      0.89      0.87        27\n",
      "           1       0.91      0.88      0.90        34\n",
      "\n",
      "    accuracy                           0.89        61\n",
      "   macro avg       0.88      0.89      0.88        61\n",
      "weighted avg       0.89      0.89      0.89        61\n",
      "\n"
     ]
    }
   ],
   "source": [
    "y_predict_1 = classifier_1.predict(features_val)\n",
    "y_pred_1 = np.argmax(y_predict_1, axis=1)\n",
    "labels_val_1_1 = np.argmax(labels_val_1,axis=1)\n",
    "print(y_pred_1)\n",
    "print(labels_val_1_1)\n",
    "print(classification_report(labels_val_1_1, y_pred_1))"
   ]
  },
  {
   "cell_type": "code",
   "execution_count": 25,
   "id": "caring-louisville",
   "metadata": {},
   "outputs": [
    {
     "data": {
      "image/png": "[encoded data removed]",
      "text/plain": [
       "<Figure size 432x288 with 2 Axes>"
      ]
     },
     "metadata": {
      "needs_background": "light"
     },
     "output_type": "display_data"
    }
   ],
   "source": [
    "cm1 = confusion_matrix(labels_val, y_pred_1)\n",
    "cm_display = ConfusionMatrixDisplay(cm1).plot()"
   ]
  },
  {
   "cell_type": "markdown",
   "id": "dependent-limit",
   "metadata": {},
   "source": [
    "# 4.3 Logistic Regressor "
   ]
  },
  {
   "cell_type": "code",
   "execution_count": 27,
   "id": "completed-heritage",
   "metadata": {},
   "outputs": [],
   "source": [
    "log_regressor = LogisticRegression()"
   ]
  },
  {
   "cell_type": "code",
   "execution_count": 29,
   "id": "strong-channels",
   "metadata": {},
   "outputs": [
    {
     "data": {
      "text/plain": [
       "0.8524590163934426"
      ]
     },
     "execution_count": 29,
     "metadata": {},
     "output_type": "execute_result"
    }
   ],
   "source": [
    "log_regressor.fit(features_train, labels_train)\n",
    "log_regressor.score(features_val,labels_val)"
   ]
  },
  {
   "cell_type": "code",
   "execution_count": 30,
   "id": "senior-perth",
   "metadata": {},
   "outputs": [],
   "source": [
    "y_pred_log = log_regressor.predict(features_val)"
   ]
  },
  {
   "cell_type": "code",
   "execution_count": 31,
   "id": "mineral-trash",
   "metadata": {},
   "outputs": [
    {
     "name": "stdout",
     "output_type": "stream",
     "text": [
      "              precision    recall  f1-score   support\n",
      "\n",
      "           0       0.88      0.78      0.82        27\n",
      "           1       0.84      0.91      0.87        34\n",
      "\n",
      "    accuracy                           0.85        61\n",
      "   macro avg       0.86      0.84      0.85        61\n",
      "weighted avg       0.85      0.85      0.85        61\n",
      "\n"
     ]
    }
   ],
   "source": [
    "print(classification_report(labels_val, y_pred_log))"
   ]
  },
  {
   "cell_type": "code",
   "execution_count": 32,
   "id": "prescribed-biography",
   "metadata": {},
   "outputs": [
    {
     "data": {
      "image/png": "[encoded data removed]",
      "text/plain": [
       "<Figure size 432x288 with 2 Axes>"
      ]
     },
     "metadata": {
      "needs_background": "light"
     },
     "output_type": "display_data"
    }
   ],
   "source": [
    "cm = confusion_matrix(labels_val, y_pred_log)\n",
    "cm_display = ConfusionMatrixDisplay(cm).plot()"
   ]
  },
  {
   "cell_type": "markdown",
   "id": "built-store",
   "metadata": {},
   "source": [
    "# 4.4 Support Vector Machine "
   ]
  },
  {
   "cell_type": "code",
   "execution_count": 34,
   "id": "spatial-graphics",
   "metadata": {},
   "outputs": [],
   "source": [
    "svm_classifier = svm.SVC()"
   ]
  },
  {
   "cell_type": "code",
   "execution_count": 35,
   "id": "competent-edward",
   "metadata": {},
   "outputs": [
    {
     "data": {
      "text/plain": [
       "0.8688524590163934"
      ]
     },
     "execution_count": 35,
     "metadata": {},
     "output_type": "execute_result"
    }
   ],
   "source": [
    "svm_classifier.fit(features_train,labels_train)\n",
    "svm_classifier.score(features_val, labels_val)"
   ]
  },
  {
   "cell_type": "code",
   "execution_count": 36,
   "id": "exterior-fisher",
   "metadata": {},
   "outputs": [],
   "source": [
    "y_pred_svm = svm_classifier.predict(features_val)"
   ]
  },
  {
   "cell_type": "code",
   "execution_count": 37,
   "id": "extreme-diana",
   "metadata": {},
   "outputs": [
    {
     "name": "stdout",
     "output_type": "stream",
     "text": [
      "              precision    recall  f1-score   support\n",
      "\n",
      "           0       0.91      0.78      0.84        27\n",
      "           1       0.84      0.94      0.89        34\n",
      "\n",
      "    accuracy                           0.87        61\n",
      "   macro avg       0.88      0.86      0.86        61\n",
      "weighted avg       0.87      0.87      0.87        61\n",
      "\n"
     ]
    }
   ],
   "source": [
    "print(classification_report(labels_val, y_pred_svm))"
   ]
  },
  {
   "cell_type": "code",
   "execution_count": 38,
   "id": "lonely-graduate",
   "metadata": {},
   "outputs": [
    {
     "data": {
      "image/png": "[encoded data removed]",
      "text/plain": [
       "<Figure size 432x288 with 2 Axes>"
      ]
     },
     "metadata": {
      "needs_background": "light"
     },
     "output_type": "display_data"
    }
   ],
   "source": [
    "cm = confusion_matrix(labels_val, y_pred_svm)\n",
    "cm_display = ConfusionMatrixDisplay(cm).plot()"
   ]
  }
 ],
 "metadata": {
  "kernelspec": {
   "display_name": "Python 3",
   "language": "python",
   "name": "python3"
  },
  "language_info": {
   "codemirror_mode": {
    "name": "ipython",
    "version": 3
   },
   "file_extension": ".py",
   "mimetype": "text/x-python",
   "name": "python",
   "nbconvert_exporter": "python",
   "pygments_lexer": "ipython3",
   "version": "3.8.5"
  }
 },
 "nbformat": 4,
 "nbformat_minor": 5
}
